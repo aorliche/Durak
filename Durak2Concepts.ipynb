{
 "cells": [
  {
   "cell_type": "code",
   "execution_count": 175,
   "metadata": {},
   "outputs": [
    {
     "name": "stdout",
     "output_type": "stream",
     "text": [
      "['plist', 'count', 'pop', 'add', 'remove', 'pfilter', 'transform', 'pand', 'por', 'pnot', 'has', 'isa', 'get', 'index', 'gt', 'eq', 'lt']\n"
     ]
    }
   ],
   "source": [
    "def typeCheck(a, b):\n",
    "    if not isinstance(a, type(b)) and not isinstance(b, type(a)):\n",
    "        raise Exception('Incompatible types')\n",
    "\n",
    "# Forward\n",
    "\n",
    "class BaseRoutine:\n",
    "    pass\n",
    "\n",
    "# Concepts\n",
    "\n",
    "class Concept:\n",
    "    def __init__(self, name: str):\n",
    "        self.name = name\n",
    "        self.items = {}\n",
    "    \n",
    "    def __call__(self):\n",
    "        return self\n",
    "        \n",
    "    def __str__(self):\n",
    "        return self.name\n",
    "    \n",
    "    def __repr__(self):\n",
    "        return self.name\n",
    "    \n",
    "basesToDerived = {}\n",
    "derivedToBases = {}\n",
    "\n",
    "class ConceptList(list):\n",
    "    name: str\n",
    "    \n",
    "    def __init__(self, name: str):\n",
    "        super().__init__()\n",
    "        self.name = name\n",
    "        \n",
    "    def __call__(self):\n",
    "        return self\n",
    "        \n",
    "    def __repr__(self):\n",
    "        return f'{self.name}: {super().__repr__()}'\n",
    "\n",
    "# Primitives\n",
    "\n",
    "class PList(list):\n",
    "    def __init__(self, obj: Concept):\n",
    "        super(PList, self).__init__()\n",
    "        self.type = type(obj)\n",
    "\n",
    "def plist(obj: Concept) -> list:\n",
    "    return PList(obj)\n",
    "\n",
    "def count(plist: list) -> int:\n",
    "    return len(plist)\n",
    "\n",
    "def pop(plist: list) -> Concept:\n",
    "    return plist.pop()\n",
    "\n",
    "def add(plist: list, elt: Concept) -> None:\n",
    "    plist.add(elt)\n",
    "    \n",
    "def remove(plist: list, elt: Concept) -> None:\n",
    "    del plist[plist.index(elt)]\n",
    "    \n",
    "def pfilter(plist: list, fn: BaseRoutine, arg: Concept) -> list:\n",
    "    return [elt for elt in plist if eq(fn(elt), arg)]\n",
    "    \n",
    "def transform(plist: list, fn: BaseRoutine) -> list:\n",
    "    return [fn(elt) for elt in plist]\n",
    "\n",
    "def pand(*args: bool) -> bool:\n",
    "    return all(arg for arg in args)\n",
    "\n",
    "def por(*args: bool) -> bool:\n",
    "    return any(arg for arg in args)\n",
    "\n",
    "def pnot(arg: bool) -> bool:\n",
    "    return not arg\n",
    "\n",
    "def has(container: Concept | list, field: str | Concept) -> bool:\n",
    "    try:\n",
    "        return field in container # PList, ObjectList\n",
    "    except:\n",
    "        return str(field) in container.items # Object\n",
    "\n",
    "def isa(derived: Concept, base: Concept) -> bool:\n",
    "    return derived in baseToDerived[base]\n",
    "\n",
    "def get(obj: Concept, field: str | Concept) -> Concept:\n",
    "    return obj.items[str(field)]\n",
    "\n",
    "def index(plist: list, elt: Concept) -> int:\n",
    "    return plist.index(elt)\n",
    "\n",
    "def gt(a: int, b: int) -> bool:\n",
    "    return a > b\n",
    "\n",
    "def eq(a: Concept | int, b: Concept | int) -> bool:\n",
    "    typeCheck(a, b)\n",
    "    if type(a) == bool or type(b) == bool:\n",
    "        return a == b and type(a) == type(b)\n",
    "    else:\n",
    "        return a == b\n",
    "    \n",
    "def lt(a: int, b: int) -> bool:\n",
    "    return a < b\n",
    "\n",
    "primitives = [plist, count, pop, add, remove, pfilter, transform, pand, por, pnot, has, isa, get, index, gt, eq, lt]\n",
    "\n",
    "print([fn.__name__ for fn in primitives])"
   ]
  },
  {
   "cell_type": "code",
   "execution_count": 176,
   "metadata": {},
   "outputs": [
    {
     "name": "stdout",
     "output_type": "stream",
     "text": [
      "[Suit, Rank, Ranks: [6, 7, 8, 9, 10, Jack, Queen, King, Ace], Hearts, Diamonds, Spades, Clubs, 6, 7, 8, 9, 10, Jack, Queen, King, Ace]\n"
     ]
    }
   ],
   "source": [
    "concepts = []\n",
    "\n",
    "def getConcept(name):\n",
    "    for c in concepts:\n",
    "        if c.name == name:\n",
    "            return c\n",
    "\n",
    "def addToDict(dct, key, val):\n",
    "    if key not in dct:\n",
    "        dct[key] = []\n",
    "    if val in dct[key]:\n",
    "        raise 'Value already in dict[key]'\n",
    "    dct[key].append(val)\n",
    "        \n",
    "def inheritFrom(derived, base):\n",
    "    addToDict(derivedToBases, derived, base)\n",
    "    addToDict(basesToDerived, base, derived)\n",
    "        \n",
    "concepts.append(Concept('Suit'))\n",
    "concepts.append(Concept('Rank'))\n",
    "suits = ['Hearts', 'Diamonds', 'Spades', 'Clubs']\n",
    "ranks = ['6', '7', '8', '9', '10', 'Jack', 'Queen', 'King', 'Ace']\n",
    "concepts.append(ConceptList('Ranks'))\n",
    "for s in suits:\n",
    "    s = Concept(s)\n",
    "    concepts.append(s)\n",
    "    inheritFrom(s, getConcept('Suit'))\n",
    "for r in ranks:\n",
    "    r = Concept(r)\n",
    "    concepts.append(r)\n",
    "    inheritFrom(r, getConcept('Rank'))\n",
    "    getConcept('Ranks').append(r)\n",
    "print(concepts)\n"
   ]
  },
  {
   "cell_type": "code",
   "execution_count": 177,
   "metadata": {},
   "outputs": [
    {
     "name": "stdout",
     "output_type": "stream",
     "text": [
      "(Suit, [Hearts, Diamonds, Spades, Clubs])\n",
      "(Rank, [6, 7, 8, 9, 10, Jack, Queen, King, Ace])\n"
     ]
    }
   ],
   "source": [
    "for k,v in basesToDerived.items():\n",
    "    print((k,v))"
   ]
  },
  {
   "cell_type": "code",
   "execution_count": 212,
   "metadata": {},
   "outputs": [
    {
     "name": "stdout",
     "output_type": "stream",
     "text": [
      "Complete\n"
     ]
    }
   ],
   "source": [
    "from inspect import signature\n",
    "from anytree import Node, NodeMixin, RenderTree, PreOrderIter\n",
    "from itertools import chain, combinations, product\n",
    "\n",
    "class Arg():\n",
    "    def __init__(self, idx, arg):\n",
    "        self.idx = idx\n",
    "        self.arg = arg\n",
    "    \n",
    "    def __call__(self):\n",
    "        return self.arg\n",
    "    \n",
    "    def __repr__(self):\n",
    "        return self.arg.__repr__()\n",
    "\n",
    "def getArg(arg):\n",
    "    if type(arg) == Arg:\n",
    "        return arg.arg\n",
    "    elif type(arg) == Routine:\n",
    "        if arg.result is None: # Transform primitive\n",
    "            return arg\n",
    "        else:\n",
    "            return arg.result\n",
    "    else:\n",
    "        return arg\n",
    "    \n",
    "def allowTypePrimitive(obj, typ):\n",
    "    if type(obj) == bool:\n",
    "        return typ == bool\n",
    "    else:\n",
    "        return isinstance(obj, typ)\n",
    "    \n",
    "def allowTypeComposite(obj, typ):\n",
    "    # int, bool, etc.\n",
    "    if type(obj) == typ:\n",
    "        return True\n",
    "    # Rank, Card, Game, etc.\n",
    "    if typ in basesToDerived[obj]:\n",
    "        return True\n",
    "    \n",
    "def powerset(iterable):\n",
    "    '''powerset([1,2,3]) --> () (1,) (2,) (3,) (1,2) (1,3) (2,3) (1,2,3)\n",
    "    https://stackoverflow.com/questions/1482308/how-to-get-all-subsets-of-a-set-powerset\n",
    "    '''\n",
    "    s = list(iterable)\n",
    "    return chain.from_iterable(combinations(s, r) for r in range(len(s)+1))\n",
    "\n",
    "class Routine(BaseRoutine, NodeMixin):\n",
    "    def __init__(self, func, name=None, parent=None, children=None, result=None, params=None, args=None):\n",
    "        self.func = func\n",
    "        self.sig = signature(self.func)\n",
    "        self.name = name if name is not None else func.__name__\n",
    "        self.parent = parent\n",
    "        if children is not None:\n",
    "            self.children = children\n",
    "        self.result = result\n",
    "        self.params = params\n",
    "        self.n = len(self.sig.parameters) if self.func not in [por, pand] else -1\n",
    "        self.args = args\n",
    "        self.xargs = None\n",
    "        self.memory = None\n",
    "        \n",
    "    def calls(self):\n",
    "        '''invoke __call__ for any new arg combinations'''\n",
    "        def helper(arg):\n",
    "            return arg if type(arg) != Routine else None\n",
    "        if self.memory is None:\n",
    "            raise Exception(\"Haven't remembered\")\n",
    "        if self.n == -1:\n",
    "            before = list(powerset(self.xargs[:self.memory]))\n",
    "            after = list(powerset(self.xargs[self.memory:]))\n",
    "            for item in product(before, after):\n",
    "                if len(item) != 0:\n",
    "                    copy = self.copy()\n",
    "                    copy.args = [helper(arg) for arg in item]\n",
    "                    copy.children = [arg.copy() for arg in item if type(arg) == Routine]\n",
    "                    try:\n",
    "                        copy()\n",
    "                        yield copy\n",
    "                    except Exception as ex:\n",
    "                        pass\n",
    "#                         print(ex)\n",
    "            self.memory = len(self.xargs)\n",
    "        else:\n",
    "            args = [args[limit:] for args, limit in zip(self.xargs, self.memory)]\n",
    "            for item in product(*args):\n",
    "                print(item)\n",
    "                copy = self.copy()\n",
    "                copy.args = [helper(arg) for arg in item]\n",
    "                copy.children = [arg.copy() for arg in item if type(arg) == Routine]\n",
    "                try:\n",
    "                    copy()\n",
    "                    yield copy\n",
    "                except Exception as ex:\n",
    "                    if copy.func.__name__ == 'gt':\n",
    "                        print(type(copy.args[0]))\n",
    "                        print(copy.args[0].result)\n",
    "                        print(copy.args[0].args)\n",
    "                    print(copy.args[0])\n",
    "                    print(copy.args[1])\n",
    "                    print(type(copy.args[0]))\n",
    "                    print(type(copy.args[1]))\n",
    "                    print(ex)\n",
    "            self.memory = [len(args) for args in self.xargs]\n",
    "    \n",
    "    def copy(self):\n",
    "        return Routine(self.func, self.name, None, \n",
    "                       [child.copy() for child in self.children], self.result, self.params, self.args)\n",
    "    \n",
    "    def forget(self):\n",
    "        self.xargs = None\n",
    "        self.memory = None\n",
    "    \n",
    "    def remember(self):\n",
    "        if self.n > -1:\n",
    "            self.xargs = [[] for _ in range(self.n)]\n",
    "            self.memory = self.n*[0]\n",
    "        else:\n",
    "            self.xargs = []\n",
    "            self.memory = 0\n",
    "    \n",
    "    def slot(self, arg):\n",
    "        '''Find compatible arg slots and place inside'''\n",
    "        # And, or\n",
    "        if self.n == -1:\n",
    "            if type(getArg(arg)) == bool:\n",
    "                if arg not in self.args:\n",
    "                    self.args.append(arg)\n",
    "        # Primitive\n",
    "        elif self.params is None:\n",
    "            for i,(hint,typ) in enumerate(self.func.__annotations__.items()):\n",
    "                if hint == 'return':\n",
    "                    continue\n",
    "                if allowTypePrimitive(getArg(arg), typ):\n",
    "                    if arg not in self.xargs[i]:\n",
    "                        self.xargs[i].append(arg)\n",
    "                    else:\n",
    "                        print(arg)\n",
    "        # Composite\n",
    "        else:\n",
    "            for i,hint in enumerate(self.params):\n",
    "                if allowTypeComposite(getArg(arg), hint):\n",
    "                    if arg not in self.xargs[i]:\n",
    "                        self.xargs[i].append(arg)\n",
    "    \n",
    "    def __call__(self, *args):\n",
    "        if len(args) == 0:\n",
    "            args = self.args\n",
    "            for child in self.children:\n",
    "                args[args.index(None)] = child\n",
    "            args = [arg() for arg in args]\n",
    "        self.result = self.func(*args)\n",
    "        return self.result\n",
    "    \n",
    "    def __eq__(self, other):\n",
    "        return (type(other) == Routine and self.func == other.func \n",
    "                and self.params == other.params and self.result == other.result)\n",
    "    \n",
    "    def __repr__(self):\n",
    "        return f'{self.name} {self.n} {self.result}'\n",
    "    \n",
    "print('Complete')"
   ]
  },
  {
   "cell_type": "code",
   "execution_count": 214,
   "metadata": {
    "scrolled": true
   },
   "outputs": [
    {
     "name": "stdout",
     "output_type": "stream",
     "text": [
      "Concepts: [Suit, Rank, Ranks: [6, 7, 8, 9, 10, Jack, Queen, King, Ace], Hearts, Diamonds, Spades, Clubs, 6, 7, 8, 9, 10, Jack, Queen, King, Ace]\n",
      " Routines: [plist 1 None, count 1 None, pop 1 None, add 2 None, remove 2 None, pfilter 3 None, transform 2 None, pand -1 None, por -1 None, pnot 1 None, has 2 None, isa 2 None, get 2 None, index 2 None, gt 2 None, eq 2 None, lt 2 None]\n",
      "(Ranks: [6, 7, 8, 9, 10, Jack, Queen, King, Ace], Rank)\n",
      "Ranks: [6, 7, 8, 9, 10, Jack, Queen, King, Ace]\n",
      "Rank\n",
      "<class '__main__.ConceptList'>\n",
      "<class '__main__.Concept'>\n",
      "Rank is not in list\n",
      "(Ranks: [6, 7, 8, 9, 10, Jack, Queen, King, Ace], 8)\n",
      "res: 2\n",
      "(Ranks: [6, 7, 8, 9, 10, Jack, Queen, King, Ace], 6)\n",
      "res: 0\n",
      "(index 2 2, index 2 2)\n",
      "res: False\n",
      "(index 2 2, index 2 0)\n",
      "res: True\n",
      "(index 2 0, index 2 2)\n",
      "res: False\n",
      "(index 2 0, index 2 0)\n",
      "res: False\n",
      "index 2 2\n",
      "index 2 2\n",
      "index 2 0\n",
      "index 2 0\n",
      "index 2 2\n",
      "index 2 2\n",
      "index 2 0\n",
      "index 2 0\n",
      "index 2 2\n",
      "index 2 2\n",
      "index 2 0\n",
      "index 2 0\n",
      "index 2 2\n",
      "index 2 2\n",
      "index 2 0\n",
      "index 2 0\n"
     ]
    },
    {
     "data": {
      "text/plain": [
       "True"
      ]
     },
     "execution_count": 214,
     "metadata": {},
     "output_type": "execute_result"
    }
   ],
   "source": [
    "def makeArgs(*args):\n",
    "    return [Arg(i,arg) for i,arg in enumerate(args)]\n",
    "\n",
    "def stricteq(a, b):\n",
    "    if type(a) == bool or type(b) == bool:\n",
    "        return a == b and type(a) == type(b)\n",
    "    else:\n",
    "        return a == b\n",
    "\n",
    "class AI:\n",
    "    def __init__(self, concepts, primitives):\n",
    "        self.concepts = concepts\n",
    "        self.routines = [Routine(fn) for fn in primitives]\n",
    "        \n",
    "    def solve(self, name, conceptNames, routineNames, args, target):\n",
    "        self.cons = [c for c in self.concepts if c.name in conceptNames]\n",
    "        self.routes = [rt for rt in self.routines if rt.name in routineNames]\n",
    "        self.leaves = []\n",
    "        self.matches = []\n",
    "        for rt in self.routes:\n",
    "            rt.forget()\n",
    "            rt.remember()\n",
    "            for arg in self.cons+args+self.routes:\n",
    "                rt.slot(arg)\n",
    "        for i in range(5):\n",
    "            for rt in self.routes:\n",
    "                for arg in self.leaves:\n",
    "                    rt.slot(arg)\n",
    "                for leaf in rt.calls():\n",
    "                    print(f'res: {leaf.result}')\n",
    "                    if stricteq(leaf.result, target):\n",
    "                        self.matches.append(leaf)\n",
    "                    self.leaves.append(leaf)\n",
    "#         for rt in self.routes:\n",
    "#             rt.forget()\n",
    "        return len(self.matches) > 0\n",
    "    \n",
    "    def __str__(self):\n",
    "        return f'Concepts: {self.concepts}\\n Routines: {self.routines}'\n",
    "    \n",
    "ai = AI(concepts, primitives)\n",
    "print(str(ai))\n",
    "\n",
    "routes = ['index', 'gt']\n",
    "cons = ['Ranks', 'Rank']\n",
    "rankA = getConcept('Ranks')[2]\n",
    "rankB = getConcept('Ranks')[0]\n",
    "ai.solve('rankgt', cons, routes, makeArgs(rankA, rankB), True)"
   ]
  },
  {
   "cell_type": "code",
   "execution_count": 156,
   "metadata": {},
   "outputs": [
    {
     "data": {
      "text/plain": [
       "[[], []]"
      ]
     },
     "execution_count": 156,
     "metadata": {},
     "output_type": "execute_result"
    }
   ],
   "source": [
    "ai.routes[2].xargs"
   ]
  },
  {
   "cell_type": "code",
   "execution_count": 157,
   "metadata": {},
   "outputs": [
    {
     "data": {
      "text/plain": [
       "[get 2 None, index 2 None, gt 2 None]"
      ]
     },
     "execution_count": 157,
     "metadata": {},
     "output_type": "execute_result"
    }
   ],
   "source": [
    "ai.routes"
   ]
  },
  {
   "cell_type": "code",
   "execution_count": 116,
   "metadata": {},
   "outputs": [
    {
     "data": {
      "text/plain": [
       "True"
      ]
     },
     "execution_count": 116,
     "metadata": {},
     "output_type": "execute_result"
    }
   ],
   "source": [
    "isinstance(getConcept('Rank'), ai.routes[0].func.__annotations__['obj'])"
   ]
  },
  {
   "cell_type": "code",
   "execution_count": 135,
   "metadata": {},
   "outputs": [
    {
     "data": {
      "text/plain": [
       "False"
      ]
     },
     "execution_count": 135,
     "metadata": {},
     "output_type": "execute_result"
    }
   ],
   "source": [
    "isinstance(getArg(getConcept('Ranks')), ai.routes[1].func.__annotations__['elt'])"
   ]
  },
  {
   "cell_type": "code",
   "execution_count": 138,
   "metadata": {},
   "outputs": [
    {
     "data": {
      "text/plain": [
       "True"
      ]
     },
     "execution_count": 138,
     "metadata": {},
     "output_type": "execute_result"
    }
   ],
   "source": [
    "isinstance(getConcept('Ranks'), Concept)"
   ]
  },
  {
   "cell_type": "code",
   "execution_count": 79,
   "metadata": {},
   "outputs": [
    {
     "data": {
      "text/plain": [
       "__main__.Object"
      ]
     },
     "execution_count": 79,
     "metadata": {},
     "output_type": "execute_result"
    }
   ],
   "source": [
    "ai.routes[0].func.__annotations__['obj']"
   ]
  },
  {
   "cell_type": "code",
   "execution_count": 90,
   "metadata": {},
   "outputs": [
    {
     "data": {
      "text/plain": [
       "False"
      ]
     },
     "execution_count": 90,
     "metadata": {},
     "output_type": "execute_result"
    }
   ],
   "source": [
    "isinstance(concepts[1], Concept)"
   ]
  },
  {
   "cell_type": "code",
   "execution_count": 164,
   "metadata": {},
   "outputs": [
    {
     "ename": "KeyError",
     "evalue": "'6'",
     "output_type": "error",
     "traceback": [
      "\u001b[1;31m---------------------------------------------------------------------------\u001b[0m",
      "\u001b[1;31mKeyError\u001b[0m                                  Traceback (most recent call last)",
      "Input \u001b[1;32mIn [164]\u001b[0m, in \u001b[0;36m<cell line: 1>\u001b[1;34m()\u001b[0m\n\u001b[1;32m----> 1\u001b[0m \u001b[43mget\u001b[49m\u001b[43m(\u001b[49m\u001b[43mgetConcept\u001b[49m\u001b[43m(\u001b[49m\u001b[38;5;124;43m'\u001b[39;49m\u001b[38;5;124;43mRank\u001b[39;49m\u001b[38;5;124;43m'\u001b[39;49m\u001b[43m)\u001b[49m\u001b[43m,\u001b[49m\u001b[43m \u001b[49m\u001b[43mgetConcept\u001b[49m\u001b[43m(\u001b[49m\u001b[38;5;124;43m'\u001b[39;49m\u001b[38;5;124;43m6\u001b[39;49m\u001b[38;5;124;43m'\u001b[39;49m\u001b[43m)\u001b[49m\u001b[43m)\u001b[49m\n",
      "Input \u001b[1;32mIn [149]\u001b[0m, in \u001b[0;36mget\u001b[1;34m(obj, field)\u001b[0m\n\u001b[0;32m     85\u001b[0m \u001b[38;5;28;01mdef\u001b[39;00m \u001b[38;5;21mget\u001b[39m(obj: Concept, field: \u001b[38;5;28mstr\u001b[39m \u001b[38;5;241m|\u001b[39m Concept) \u001b[38;5;241m-\u001b[39m\u001b[38;5;241m>\u001b[39m Concept:\n\u001b[1;32m---> 86\u001b[0m     \u001b[38;5;28;01mreturn\u001b[39;00m \u001b[43mobj\u001b[49m\u001b[38;5;241;43m.\u001b[39;49m\u001b[43mitems\u001b[49m\u001b[43m[\u001b[49m\u001b[38;5;28;43mstr\u001b[39;49m\u001b[43m(\u001b[49m\u001b[43mfield\u001b[49m\u001b[43m)\u001b[49m\u001b[43m]\u001b[49m\n",
      "\u001b[1;31mKeyError\u001b[0m: '6'"
     ]
    }
   ],
   "source": [
    "get(getConcept('Rank'), getConcept('6'))"
   ]
  },
  {
   "cell_type": "code",
   "execution_count": 205,
   "metadata": {},
   "outputs": [
    {
     "data": {
      "text/plain": [
       "[index 2 None, index 2 None, gt 2 None]"
      ]
     },
     "execution_count": 205,
     "metadata": {},
     "output_type": "execute_result"
    }
   ],
   "source": [
    "ai.leaves"
   ]
  },
  {
   "cell_type": "code",
   "execution_count": null,
   "metadata": {},
   "outputs": [],
   "source": []
  }
 ],
 "metadata": {
  "kernelspec": {
   "display_name": "Python 3 (ipykernel)",
   "language": "python",
   "name": "python3"
  },
  "language_info": {
   "codemirror_mode": {
    "name": "ipython",
    "version": 3
   },
   "file_extension": ".py",
   "mimetype": "text/x-python",
   "name": "python",
   "nbconvert_exporter": "python",
   "pygments_lexer": "ipython3",
   "version": "3.10.5"
  }
 },
 "nbformat": 4,
 "nbformat_minor": 4
}
